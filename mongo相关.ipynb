{
 "cells": [
  {
   "cell_type": "code",
   "execution_count": 7,
   "id": "indian-architect",
   "metadata": {},
   "outputs": [
    {
     "name": "stdout",
     "output_type": "stream",
     "text": [
      "Database(MongoClient(host=['127.0.0.1:27017'], document_class=dict, tz_aware=False, connect=True), 'traffic')\n"
     ]
    }
   ],
   "source": [
    "import pymongo\n",
    "client = pymongo.MongoClient(host='127.0.0.1') #连接\n",
    "db = client.traffic  # 数据库名为 traffic\t\n",
    "print(db)"
   ]
  },
  {
   "cell_type": "code",
   "execution_count": 4,
   "id": "falling-contract",
   "metadata": {},
   "outputs": [
    {
     "data": {
      "text/plain": [
       "['admin', 'config', 'local']"
      ]
     },
     "execution_count": 4,
     "metadata": {},
     "output_type": "execute_result"
    }
   ],
   "source": [
    "db_list=client.list_database_names()\n",
    "db_list"
   ]
  },
  {
   "cell_type": "code",
   "execution_count": 8,
   "id": "laden-cross",
   "metadata": {},
   "outputs": [
    {
     "name": "stdout",
     "output_type": "stream",
     "text": [
      "<pymongo.results.InsertOneResult object at 0x0000021348295500>\n"
     ]
    }
   ],
   "source": [
    "collections=db.person\n",
    "person_one={'name':'alice','age':'24','height':'170','weight':'60'}\n",
    "result=collections.insert_one(person_one)\n",
    "print(result)"
   ]
  },
  {
   "cell_type": "code",
   "execution_count": 11,
   "id": "vital-angel",
   "metadata": {},
   "outputs": [
    {
     "name": "stdout",
     "output_type": "stream",
     "text": [
      "<pymongo.results.InsertManyResult object at 0x0000021345FC78C0>\n"
     ]
    }
   ],
   "source": [
    "\n",
    "person_one = {\t\n",
    "    'name': '咪哥杂谈',\t\n",
    "    'age': '24',\t\n",
    "    'height': '175',\t\n",
    "    'weight': '60'\t\n",
    "}\t\n",
    " \n",
    "\t\n",
    "person_two = {\t\n",
    "    'name': '咪哥杂谈_two',\t\n",
    "    'age': '22',\t\n",
    "    'height': '180',\t\n",
    "    'weight': '63'\t\n",
    "}\t\n",
    " \n",
    "\t\n",
    "result = collections.insert_many([person_one, person_two])  # 文档插入集合\t\n",
    "print(result)\t\n"
   ]
  },
  {
   "cell_type": "code",
   "execution_count": 12,
   "id": "aggressive-purse",
   "metadata": {},
   "outputs": [
    {
     "name": "stdout",
     "output_type": "stream",
     "text": [
      "{'_id': ObjectId('611a1e4106e044b1591a681c'), 'name': 'alice', 'age': '24', 'height': '170', 'weight': '60'}\n",
      "{'_id': ObjectId('611a2a5d06e044b1591a681d'), 'name': '咪哥杂谈', 'age': '24', 'height': '175', 'weight': '60'}\n",
      "{'_id': ObjectId('611a2a5d06e044b1591a681e'), 'name': '咪哥杂谈_two', 'age': '22', 'height': '180', 'weight': '63'}\n"
     ]
    }
   ],
   "source": [
    "for i in collections.find():\n",
    "    print(i)"
   ]
  },
  {
   "cell_type": "code",
   "execution_count": 14,
   "id": "monthly-geology",
   "metadata": {},
   "outputs": [
    {
     "name": "stdout",
     "output_type": "stream",
     "text": [
      "{'_id': ObjectId('611a2a5d06e044b1591a681e'), 'name': '咪哥杂谈_two', 'age': '22', 'height': '180', 'weight': '63'}\n"
     ]
    }
   ],
   "source": [
    "result2 = collections.find({'age': '22'})\n",
    "for i in result2:\n",
    "    print(i)"
   ]
  },
  {
   "cell_type": "code",
   "execution_count": null,
   "id": "timely-benchmark",
   "metadata": {},
   "outputs": [],
   "source": []
  }
 ],
 "metadata": {
  "kernelspec": {
   "display_name": "Python 3",
   "language": "python",
   "name": "python3"
  },
  "language_info": {
   "codemirror_mode": {
    "name": "ipython",
    "version": 3
   },
   "file_extension": ".py",
   "mimetype": "text/x-python",
   "name": "python",
   "nbconvert_exporter": "python",
   "pygments_lexer": "ipython3",
   "version": "3.8.5"
  },
  "toc": {
   "base_numbering": 1,
   "nav_menu": {},
   "number_sections": true,
   "sideBar": true,
   "skip_h1_title": false,
   "title_cell": "Table of Contents",
   "title_sidebar": "Contents",
   "toc_cell": false,
   "toc_position": {},
   "toc_section_display": true,
   "toc_window_display": false
  }
 },
 "nbformat": 4,
 "nbformat_minor": 5
}
